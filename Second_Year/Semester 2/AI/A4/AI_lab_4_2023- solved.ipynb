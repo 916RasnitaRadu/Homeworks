{
 "cells": [
  {
   "cell_type": "markdown",
   "id": "b246b6ac",
   "metadata": {},
   "source": [
    "## A.I. Assignment 4\n",
    "\n",
    "## Learning Goals\n",
    "\n",
    "By the end of this lab, you should be able to:\n",
    "* Get familiar with tensors in pytorch\n",
    "* Get familiar with the activation functions for ANN \n",
    "* Create a simple perceptron model with pytorch\n",
    "\n"
   ]
  },
  {
   "cell_type": "markdown",
   "id": "8247d8bb",
   "metadata": {},
   "source": [
    "## Common activation functions for ANN:\n",
    "\n",
    "##### Sigmoid:\n",
    "\n",
    "The sigmoid function is a popular choice for activation functions in neural networks. It has an $S-shaped$ curve:\n",
    "$$f(x) = \\frac{1}{1+e^{-x}}.$$\n",
    "\n",
    "It has a number of appealing qualities:\n",
    "\n",
    "1. *Nonlinearity*: Because the sigmoid function is nonlinear, it enables the neural network to simulate nonlinear interactions between inputs and outputs. A neural network would simply be a linear model without a nonlinear activation function like sigmoid, which would significantly restrict its capacity to describe complex relationships.\n",
    "\n",
    "1. *Smoothness*: As the sigmoid function is differentiable and smooth, its derivative exist at every point. This is significant because it makes it possible for neural network training techniques based on gradients (such as backpropagation) to perform well.\n",
    "\n",
    "1. *Boundedness*: The sigmoid function is bounded between 0 and 1, it means  its outputs can be interpreted as probabilities.  It is most useful in applications like binary classification, where the goal is to predict whether an input belongs to one of two classes.\n",
    "\n",
    "1. *Monotonicity*: The sigmoid function is monotonic, which means that its outputs are always increasing or always decreasing with respect to its inputs. This makes it easy to interpret the effect of changes in input variables on the output of the network.\n",
    "\n",
    "##### ReLU (Rectified Linear Unit):\n",
    "\n",
    "The ReLU function is defined as $$f(x) = max(0, x).$$\n",
    "\n",
    "It is a widely used activation function in deep learning due to its simplicity and effectiveness.\n",
    "\n",
    "##### Tanh (Hyperbolic Tangent):\n",
    "\n",
    "The $\\tanh$ function is similar to the sigmoid function but produces outputs in the interval $[-1, 1]$:  \n",
    "$$f(x) = \\frac{e^{x}-e^{-x}}{e^{x}+e^{-x}}.$$\n",
    "\n",
    "##### Softmax:\n",
    "\n",
    "The softmax function is commonly used in the output layer of a neural network for multi-class classification problems. It normalizes the output into a probability distribution over the classes.\n",
    "\n",
    "Given a vector $\\vec{z}$ of $n$ real numbers, the softmax function calculates a vector $\\vec{s}$ of $n$ real numbers with the components:\n",
    "$$s_j = \\frac{e^{z_j}}{\\sum_{k=1}^{n} {e^{z_k}}}.$$\n",
    "\n",
    "\n",
    "##### Leaky ReLU:\n",
    "\n",
    "The Leaky ReLU is a variation of the ReLU function that introduces a small non-zero gradient for negative inputs. It is defined as \n",
    "$$f(x) = max(0.01 \\cdot x, x).$$\n",
    "\n",
    "##### ELU (Exponential Linear Unit):\n",
    "\n",
    "The ELU function is another variation of the ReLU function that introduces a small negative saturation value for negative inputs. It is defined as \n",
    "\n",
    "$$ f(x) = \\biggl\\{ \\begin{matrix} x, & for & x > 0 \\\\\n",
    "                      \\alpha \\cdot (e^{x} - 1), & for & x \\leq 0 \\end{matrix}$$\n",
    "where $\\alpha$ is a hyperparameter.\n",
    "\n",
    "##### Swish:\n",
    "\n",
    "The Swish function is a recent activation function that is a smooth approximation of the ReLU function. It is defined as f(x) = x * sigmoid(x)."
   ]
  },
  {
   "cell_type": "code",
   "execution_count": 7,
   "id": "68931328",
   "metadata": {},
   "outputs": [
    {
     "data": {
      "text/plain": [
       "False"
      ]
     },
     "execution_count": 7,
     "metadata": {},
     "output_type": "execute_result"
    }
   ],
   "source": [
    "import torch\n",
    "torch.cuda.is_available()"
   ]
  },
  {
   "cell_type": "markdown",
   "id": "93017ce5",
   "metadata": {},
   "source": [
    "create a tensor with requires_grad=True to tell PyTorch to track gradients for this tensor:"
   ]
  },
  {
   "cell_type": "code",
   "execution_count": 8,
   "id": "a14b6a39",
   "metadata": {},
   "outputs": [
    {
     "name": "stdout",
     "output_type": "stream",
     "text": [
      "tensor([2.], requires_grad=True)\n"
     ]
    }
   ],
   "source": [
    "x = torch.tensor([2.0], requires_grad=True)\n",
    "print(x)"
   ]
  },
  {
   "cell_type": "markdown",
   "id": "56340210",
   "metadata": {},
   "source": [
    "You can perform any operations on this tensor as usual:"
   ]
  },
  {
   "cell_type": "code",
   "execution_count": 9,
   "id": "99cb5a71",
   "metadata": {},
   "outputs": [
    {
     "name": "stdout",
     "output_type": "stream",
     "text": [
      "tensor([9.], grad_fn=<AddBackward0>)\n"
     ]
    }
   ],
   "source": [
    "y = x ** 2 + 2 * x + 1\n",
    "print(y)"
   ]
  },
  {
   "cell_type": "markdown",
   "id": "af8a18dc",
   "metadata": {},
   "source": [
    "To compute the gradients of y with respect to x, you need to call backward() on y:"
   ]
  },
  {
   "cell_type": "code",
   "execution_count": 10,
   "id": "8c244acf",
   "metadata": {},
   "outputs": [],
   "source": [
    "y.backward()"
   ]
  },
  {
   "cell_type": "code",
   "execution_count": 11,
   "id": "0e9b7e33",
   "metadata": {},
   "outputs": [
    {
     "data": {
      "text/plain": [
       "tensor([6.])"
      ]
     },
     "execution_count": 11,
     "metadata": {},
     "output_type": "execute_result"
    }
   ],
   "source": [
    "x.grad"
   ]
  },
  {
   "cell_type": "code",
   "execution_count": 12,
   "id": "87ce525b",
   "metadata": {},
   "outputs": [
    {
     "name": "stdout",
     "output_type": "stream",
     "text": [
      "tensor([1., 1., 1.])\n"
     ]
    }
   ],
   "source": [
    "import torch\n",
    "\n",
    "# Create a tensor with requires_grad=True\n",
    "x = torch.tensor([1., 2., 3.], requires_grad=True)\n",
    "\n",
    "# Compute a function of x\n",
    "y = x.sum()\n",
    "\n",
    "# Compute gradients of y with respect to x\n",
    "y.backward()\n",
    "\n",
    "# Print gradients of x\n",
    "print(x.grad)\n"
   ]
  },
  {
   "cell_type": "markdown",
   "id": "30804b8c",
   "metadata": {},
   "source": [
    "Exercise 1.\n",
    "\n",
    "Compute the gradient for the sigmoid activation function in 2 points using pytorch and check it with the known explicit formula "
   ]
  },
  {
   "cell_type": "code",
   "execution_count": 14,
   "id": "2dc94902",
   "metadata": {},
   "outputs": [],
   "source": [
    "# your code here\n",
    "\n",
    "import torch\n",
    "\n",
    "# We write a function to compute the sigmoid\n",
    "def sigmoid(x):\n",
    "    return 1/(1 + torch.exp(-x))\n",
    "\n",
    "# We define a function for the sigmoid gradient s'=s(1-s)\n",
    "def sigmoidDerivative(x):\n",
    "    return np.exp(-x)/(1+np.exp(-x))**2"
   ]
  },
  {
   "cell_type": "code",
   "execution_count": 15,
   "id": "dae53d98",
   "metadata": {},
   "outputs": [
    {
     "name": "stdout",
     "output_type": "stream",
     "text": [
      "tensor([0.1050])\n",
      "tensor([0.0003])\n"
     ]
    }
   ],
   "source": [
    "# First we take 2 points\n",
    "x1 = torch.tensor([2.0],requires_grad=True)\n",
    "x2 = torch.tensor([8.0],requires_grad=True)\n",
    "\n",
    "# We compute the sigmoid functions for the 2 points\n",
    "y1 = sigmoid(x1)\n",
    "y2 = sigmoid(x2)\n",
    "\n",
    "# Next, we compute the gradient of y1, y2 with respect to x1, x2\n",
    "y1.backward()\n",
    "y2.backward()\n",
    "\n",
    "explicit_x1 = sigmoidDerivative(x1)\n",
    "explicit_x2 = sigmoidDerivative(x2)\n",
    "\n",
    "print(\"Gradient of sigmoid at x=2 using PyTorch: \", x1.grad.item())\n",
    "print(\"Gradient of sigmoid at x=2 using explicit formula: \", explicit_x1)\n",
    "print()\n",
    "print(\"Gradient of sigmoid at x=8 using Pytorch: \", x2.grad.item())\n",
    "print(\"Gradient of sigmoid at x=8 using explicit formula: \", explicit_x2)\n"
   ]
  },
  {
   "cell_type": "markdown",
   "id": "7e77a45c",
   "metadata": {},
   "source": [
    "Exercise 2.\n",
    "\n",
    "Compute the gradient for the linear activation function in 2 points using pytorch and check it with the known explicit formula"
   ]
  },
  {
   "cell_type": "code",
   "execution_count": 17,
   "id": "c04e690b",
   "metadata": {},
   "outputs": [
    {
     "name": "stdout",
     "output_type": "stream",
     "text": [
      "tensor([1.])\n",
      "tensor([1.])\n"
     ]
    }
   ],
   "source": [
    "x1 = torch.tensor([-2.0], requires_grad=True)\n",
    "x2 = torch.tensor([5.0], requires_grad=True)\n",
    "\n",
    "y1 = x1\n",
    "y2 = x2\n",
    "\n",
    "# Next, we compute the gradient of y1, y2 with respect to x1, x2\n",
    "y1.backward()\n",
    "y2.backward()\n",
    "\n",
    "# And we print the gradients of x\n",
    "print(x1.grad.item())\n",
    "print(x2.grad.item())\n",
    "\n",
    "# The linear function is f(x)=x so its derivatie it's f'(x)=1. The gradient of the points must be 1."
   ]
  },
  {
   "cell_type": "markdown",
   "id": "dab117e3",
   "metadata": {},
   "source": [
    "Execise 3.\n",
    "\n",
    "Compute the gradient for the relu activation function in 2 points using pytorch and check it with the known explicit formula."
   ]
  },
  {
   "cell_type": "code",
   "execution_count": 17,
   "id": "1f69f4c5",
   "metadata": {},
   "outputs": [],
   "source": [
    "# We define ReLU function\n",
    "def ReLU(x):\n",
    "    return max(0,x)\n",
    "\n",
    "def reluDerivative(x):\n",
    "    if x > 0:\n",
    "        return 1\n",
    "    return 0"
   ]
  },
  {
   "cell_type": "code",
   "execution_count": 19,
   "id": "75f5b182",
   "metadata": {},
   "outputs": [
    {
     "name": "stdout",
     "output_type": "stream",
     "text": [
      "tensor([1.])\n",
      "tensor([1.])\n"
     ]
    }
   ],
   "source": [
    "x1 = torch.tensor([8.0], requires_grad=True)\n",
    "x2 = torch.tensor([4.0], requires_grad=True)\n",
    "\n",
    "y1 = ReLU(x1)\n",
    "y2 = ReLU(x2)\n",
    "\n",
    "# Next, we compute the gradient of y1, y2 with respect to x1, x2\n",
    "y1.backward()\n",
    "y2.backward()\n",
    "\n",
    "# And we print the gradients of x\n",
    "explicit_x1 = reluDerivative(x1)\n",
    "explicit_x2 = reluDerivative(x2)\n",
    "\n",
    "print(\"Gradient of sigmoid at x=8 using PyTorch: \", x1.grad.item())\n",
    "print(\"Gradient of sigmoid at x=8 using explicit formula: \", explicit_x1)\n",
    "print()\n",
    "print(\"Gradient of sigmoid at x=4 using Pytorch: \", x2.grad.item())\n",
    "print(\"Gradient of sigmoid at x=4 using explicit formula: \", explicit_x2)"
   ]
  },
  {
   "cell_type": "markdown",
   "id": "ef985f68",
   "metadata": {},
   "source": [
    "Exercise 4. \n",
    "\n",
    "Write in python a function to plot the sigmoid activation function and its gradient using matplotlib"
   ]
  },
  {
   "cell_type": "code",
   "execution_count": 36,
   "id": "6c645aaf",
   "metadata": {},
   "outputs": [],
   "source": [
    "# your code here\n",
    "from matplotlib import pylab\n",
    "import pylab as plt\n",
    "import numpy as np\n",
    "import torch"
   ]
  },
  {
   "cell_type": "code",
   "execution_count": 37,
   "id": "c1e9e778",
   "metadata": {},
   "outputs": [],
   "source": [
    "# We write a function to compute the sigmoid\n",
    "def sigmoid(x):\n",
    "    return 1/(1 + np.exp(-x))"
   ]
  },
  {
   "cell_type": "code",
   "execution_count": 38,
   "id": "3db4a588",
   "metadata": {},
   "outputs": [],
   "source": [
    "# We define a function for the sigmoid gradient\n",
    "def sigmoidDerivative(x):\n",
    "    return np.exp(-x)/(1+np.exp(-x))**2"
   ]
  },
  {
   "cell_type": "code",
   "execution_count": 39,
   "id": "bfac38d1",
   "metadata": {},
   "outputs": [
    {
     "data": {
      "image/png": "[encoded data removed]",
      "text/plain": [
       "<Figure size 640x480 with 1 Axes>"
      ]
     },
     "metadata": {},
     "output_type": "display_data"
    }
   ],
   "source": [
    "# Now we plot the functions\n",
    "x = plt.linspace(-10,10,100)\n",
    "y = plt.linspace(-10,10,100)\n",
    "\n",
    "plt.title(\"The Sigmoid function\")\n",
    "plt.grid()\n",
    "\n",
    "plt.plot(x, sigmoid(x),'r')\n",
    "plt.plot(y, sigmoidDerivative(y), 'b')\n",
    "\n",
    "plt.show()"
   ]
  },
  {
   "cell_type": "markdown",
   "id": "51202a51",
   "metadata": {},
   "source": [
    "Exercise 5. \n",
    "\n",
    "Write in python a function to plot the ReLU activation function and its gradient using matplotlib."
   ]
  },
  {
   "cell_type": "code",
   "execution_count": 40,
   "id": "99e49c47",
   "metadata": {},
   "outputs": [],
   "source": [
    "# your code here\n",
    "def relu(x):\n",
    "    return max(0,x)                                                                                                                                                                                                                                                                                                                                                                                                                                                                                                                                                                                                                                                                                                                                                                                                                                                                                                                                                                                                                                                                                                                                                                                                                                                                                                                                                                                                                                                                                                                                                                                                                                                                                                                                                                                                                                                                                                                                                    "
   ]
  },
  {
   "cell_type": "code",
   "execution_count": 41,
   "id": "dc1bfd35",
   "metadata": {},
   "outputs": [],
   "source": [
    "def reluDerivative(x):\n",
    "    if x > 0:\n",
    "        return 1\n",
    "    return 0"
   ]
  },
  {
   "cell_type": "code",
   "execution_count": 42,
   "id": "f6b7f4b5",
   "metadata": {},
   "outputs": [
    {
     "data": {
      "image/png": "[encoded data removed]",
      "text/plain": [
       "<Figure size 640x480 with 1 Axes>"
      ]
     },
     "metadata": {},
     "output_type": "display_data"
    }
   ],
   "source": [
    "# We plot the relu function first\n",
    "x = np.arange(-10,10,0.2)\n",
    "reluPoints = [relu(z) for z in x]\n",
    "\n",
    "plt.title(\"The ReLU function\")\n",
    "plt.grid()\n",
    "plt.plot(x, reluPoints, 'b')\n",
    "\n",
    "plt.show()"
   ]
  },
  {
   "cell_type": "code",
   "execution_count": 43,
   "id": "7268bf73",
   "metadata": {},
   "outputs": [
    {
     "data": {
      "image/png": "[encoded data removed]",
      "text/plain": [
       "<Figure size 640x480 with 1 Axes>"
      ]
     },
     "metadata": {},
     "output_type": "display_data"
    }
   ],
   "source": [
    "# Next we plot the derivative function\n",
    "y = np.arange(-10,10,0.1)\n",
    "reluPoints = [reluDerivative(z) for z in y]\n",
    "\n",
    "plt.title(\"The ReLU function\")\n",
    "plt.grid()\n",
    "plt.plot(y, reluPoints, 'b')\n",
    "\n",
    "plt.show()"
   ]
  },
  {
   "cell_type": "markdown",
   "id": "c81684ff",
   "metadata": {},
   "source": [
    "Exercise 6. \n",
    "\n",
    "Write in python a function to plot the tanh activation function and its gradient using matplotlib."
   ]
  },
  {
   "cell_type": "code",
   "execution_count": 27,
   "id": "559d421d",
   "metadata": {},
   "outputs": [],
   "source": [
    "# We define the Hyperbolic Tangent function\n",
    "def tanh(x):\n",
    "    return (np.exp(x) - np.exp(-x))/(np.exp(x) + np.exp(-x))"
   ]
  },
  {
   "cell_type": "code",
   "execution_count": 28,
   "id": "d5a998a8",
   "metadata": {},
   "outputs": [],
   "source": [
    "# Next we define its derivative\n",
    "def tanhDerivative(x):\n",
    "#    return 2*np.exp(-x) / (np.exp(x) + np.exp(-x))**2\n",
    "    return 1-tanh(x)**2"
   ]
  },
  {
   "cell_type": "code",
   "execution_count": 29,
   "id": "617e7ef1",
   "metadata": {},
   "outputs": [
    {
     "data": {
      "image/png": "[encoded data removed]",
      "text/plain": [
       "<Figure size 640x480 with 1 Axes>"
      ]
     },
     "metadata": {},
     "output_type": "display_data"
    }
   ],
   "source": [
    "x = plt.linspace(-10,10,100)\n",
    "y = plt.linspace(-10,10,100)\n",
    "\n",
    "plt.title(\"The TanH function\")\n",
    "plt.grid()\n",
    "\n",
    "plt.plot(x, tanh(x), 'r')\n",
    "plt.plot(y, tanhDerivative(y), 'b')\n",
    "\n",
    "plt.show()"
   ]
  },
  {
   "cell_type": "markdown",
   "id": "6f382daf",
   "metadata": {},
   "source": [
    "Exercise 7. \n",
    "\n",
    "Write in python a function to plot the softmax activation function."
   ]
  },
  {
   "cell_type": "code",
   "execution_count": 46,
   "id": "0dd236a3",
   "metadata": {},
   "outputs": [],
   "source": [
    "# We define the softmax function\n",
    "def softmax(x):\n",
    "#     e_z = np.exp(x - np.max(x))\n",
    "#     return e_z / e_z.sum(axis=0)\n",
    "    e  = np.exp(x)\n",
    "    return e / e.sum()"
   ]
  },
  {
   "cell_type": "code",
   "execution_count": 47,
   "id": "20b08c2c",
   "metadata": {},
   "outputs": [
    {
     "name": "stdout",
     "output_type": "stream",
     "text": [
      "[-20.         -19.5959596  -19.19191919 -18.78787879 -18.38383838\n",
      " -17.97979798 -17.57575758 -17.17171717 -16.76767677 -16.36363636\n",
      " -15.95959596 -15.55555556 -15.15151515 -14.74747475 -14.34343434\n",
      " -13.93939394 -13.53535354 -13.13131313 -12.72727273 -12.32323232\n",
      " -11.91919192 -11.51515152 -11.11111111 -10.70707071 -10.3030303\n",
      "  -9.8989899   -9.49494949  -9.09090909  -8.68686869  -8.28282828\n",
      "  -7.87878788  -7.47474747  -7.07070707  -6.66666667  -6.26262626\n",
      "  -5.85858586  -5.45454545  -5.05050505  -4.64646465  -4.24242424\n",
      "  -3.83838384  -3.43434343  -3.03030303  -2.62626263  -2.22222222\n",
      "  -1.81818182  -1.41414141  -1.01010101  -0.60606061  -0.2020202\n",
      "   0.2020202    0.60606061   1.01010101   1.41414141   1.81818182\n",
      "   2.22222222   2.62626263   3.03030303   3.43434343   3.83838384\n",
      "   4.24242424   4.64646465   5.05050505   5.45454545   5.85858586\n",
      "   6.26262626   6.66666667   7.07070707   7.47474747   7.87878788\n",
      "   8.28282828   8.68686869   9.09090909   9.49494949   9.8989899\n",
      "  10.3030303   10.70707071  11.11111111  11.51515152  11.91919192\n",
      "  12.32323232  12.72727273  13.13131313  13.53535354  13.93939394\n",
      "  14.34343434  14.74747475  15.15151515  15.55555556  15.95959596\n",
      "  16.36363636  16.76767677  17.17171717  17.57575758  17.97979798\n",
      "  18.38383838  18.78787879  19.19191919  19.5959596   20.        ]\n"
     ]
    },
    {
     "data": {
      "image/png": "[encoded data removed]",
      "text/plain": [
       "<Figure size 640x480 with 1 Axes>"
      ]
     },
     "metadata": {},
     "output_type": "display_data"
    }
   ],
   "source": [
    "x = plt.linspace(-20,20,100)\n",
    "\n",
    "plt.title(\"The Softmax function\")\n",
    "plt.grid()\n",
    "plt.plot(x, softmax(x), 'r')\n",
    "\n",
    "plt.show()"
   ]
  },
  {
   "cell_type": "markdown",
   "id": "8740a0a8",
   "metadata": {},
   "source": [
    "Exercise 8. \n",
    "\n",
    "Write in python a function to plot the leaky ReLU activation function and its gradient using matplotlib."
   ]
  },
  {
   "cell_type": "code",
   "execution_count": 63,
   "id": "7b455646",
   "metadata": {},
   "outputs": [],
   "source": [
    "# We define the leaky ReLU function\n",
    "def leaky_relu(x,alpha=0.01):\n",
    "#   return max(alpha*x, x)\n",
    "    return np.maximum(alpha*x,x)"
   ]
  },
  {
   "cell_type": "code",
   "execution_count": 64,
   "id": "8b7f3aec",
   "metadata": {},
   "outputs": [],
   "source": [
    "# We define the derivative of the function\n",
    "def leaky_relu_derivative(x,alpha=0.01):\n",
    "#     if x > 0:\n",
    "#         return 1\n",
    "#     return alpha\n",
    "    return np.where(x>0, 1, alpha)"
   ]
  },
  {
   "cell_type": "code",
   "execution_count": 65,
   "id": "16c2c7b3",
   "metadata": {},
   "outputs": [
    {
     "data": {
      "image/png": "[encoded data removed]",
      "text/plain": [
       "<Figure size 640x480 with 1 Axes>"
      ]
     },
     "metadata": {},
     "output_type": "display_data"
    }
   ],
   "source": [
    "x = np.linspace(-20,20,100)\n",
    "y = np.linspace(-20,20,100)\n",
    "\n",
    "plt.title(\"The leaky ReLU function\")\n",
    "plt.grid()\n",
    "\n",
    "plt.plot(x,leaky_relu(x),'b',label=\"leaky ReLU\")\n",
    "plt.plot(y,leaky_relu_derivative(y),'r',label=\"leaky ReLU gradient\")\n",
    "\n",
    "plt.show()"
   ]
  },
  {
   "cell_type": "markdown",
   "id": "4e33119c",
   "metadata": {},
   "source": [
    "## Perceptron\n",
    "\n",
    "We define a class called *Perceptron* that inherits from *torch.nn.Module*. \n",
    "\n",
    "In the constructor, we define a single fully-connected linear layer with $input_dim$ inputs and $output_dim$ outputs, and a $sigmoid$ activation function. In the forward method, we apply the linear transformation to the input $x$, and then apply the sigmoid activation function to the output.\n",
    "\n"
   ]
  },
  {
   "cell_type": "code",
   "execution_count": null,
   "id": "aa86d7c0",
   "metadata": {},
   "outputs": [],
   "source": [
    "import torch\n",
    "import torch.nn as nn\n",
    "\n",
    "input_size = 2\n",
    "output_size = 1\n",
    "\n",
    "class Perceptron(torch.nn.Module):\n",
    "    def __init__(self, input_dim, output_dim):\n",
    "        super(Perceptron, self).__init__()\n",
    "        self.linear = torch.nn.Linear(input_dim, output_dim)\n",
    "        self.activation = torch.nn.Sigmoid()\n",
    "        \n",
    "    def forward(self, x):\n",
    "        x = self.linear(x)\n",
    "        x = self.activation(x)\n",
    "        return x\n"
   ]
  },
  {
   "cell_type": "markdown",
   "id": "a178820e",
   "metadata": {},
   "source": [
    " We create an instance of this model and use it to make predictions like this:"
   ]
  },
  {
   "cell_type": "code",
   "execution_count": null,
   "id": "78513e21",
   "metadata": {},
   "outputs": [],
   "source": [
    "perceptron = Perceptron(input_size, output_size)\n",
    "x = torch.tensor([0.5, 0.2])\n",
    "y = perceptron(x)\n",
    "print(y)\n"
   ]
  },
  {
   "cell_type": "code",
   "execution_count": null,
   "id": "54070b51",
   "metadata": {},
   "outputs": [],
   "source": [
    "\n",
    "# Define the loss function and optimizer\n",
    "criterion = nn.BCELoss()  # Binary cross-entropy loss\n",
    "optimizer = torch.optim.SGD(perceptron.parameters(), lr=0.1)  # Stochastic gradient descent optimizer\n",
    "\n",
    "# Generate some random input data and labels\n",
    "input_data = torch.randn((10, input_size))\n",
    "labels = torch.randint(0, 2, (10, output_size)).float()\n",
    "\n",
    "# Train the model\n",
    "num_epochs = 1000\n",
    "for epoch in range(num_epochs):\n",
    "    # Forward pass\n",
    "    outputs = perceptron(input_data) # uses perceptron.forward()\n",
    "    loss = criterion(outputs, labels)\n",
    "\n",
    "    # Backward pass and optimization\n",
    "    optimizer.zero_grad()\n",
    "    loss.backward()\n",
    "    optimizer.step()\n",
    "\n",
    "    # Print the loss every 100 epochs\n",
    "    if (epoch + 1) % 100 == 0:\n",
    "        print(f'Epoch [{epoch+1}/{num_epochs}], Loss: {loss.item():.4f}')"
   ]
  },
  {
   "cell_type": "markdown",
   "id": "75b840f4",
   "metadata": {},
   "source": [
    "Exercise 9: \n",
    "\n",
    "Implement a binary classification model using the Perceptron class in PyTorch for the logic OR. \n",
    "\n",
    "Your task is to create a Perceptron instance and train it using a proper  dataset and the binary cross-entropy loss with stochastic gradient descent optimizer. \n",
    "\n",
    "Here are the steps you can follow:\n",
    "\n",
    "Define a Perceptron class that inherits from torch.nn.Module and implements a binary classification model.\n",
    "\n",
    "Define a binary cross-entropy loss function using the torch.nn.BCEWithLogitsLoss module.\n",
    "\n",
    "Define a stochastic gradient descent optimizer using the torch.optim.SGD module.\n",
    "\n",
    "Train the Perceptron model on the training set using the binary cross-entropy loss and stochastic gradient descent optimizer.\n",
    "\n",
    "Evaluate the trained model compute the accuracy.\n"
   ]
  },
  {
   "cell_type": "code",
   "execution_count": 48,
   "id": "dc3c5d3e",
   "metadata": {},
   "outputs": [],
   "source": [
    "# We import the libraries\n",
    "import torch\n",
    "import torch.nn as nn"
   ]
  },
  {
   "cell_type": "code",
   "execution_count": 55,
   "id": "128ec232",
   "metadata": {},
   "outputs": [],
   "source": [
    "# We define the input and the output size\n",
    "input_size = 2\n",
    "output_size = 1\n",
    "\n",
    "# We define the perceptron class\n",
    "class Perceptron(torch.nn.Module):\n",
    "    def __init__(self, input_dim, output_dim):\n",
    "        super(Perceptron, self).__init__()\n",
    "        self.linear = torch.nn.Linear(input_dim,output_dim)\n",
    "        #self.activation = torch.nn.Sigmoid()\n",
    "    \n",
    "    def forward(self, x):\n",
    "        x = self.linear(x)\n",
    "        #x = self.activation(x)\n",
    "        return x"
   ]
  },
  {
   "cell_type": "code",
   "execution_count": 58,
   "id": "7da0b5c4",
   "metadata": {},
   "outputs": [],
   "source": [
    "# We create an instance of the model\n",
    "perceptron = Perceptron(input_size,output_size)\n",
    "\n",
    "# Now we take a binary cross-entropy loss with stochastic gradient descent optimizer.\n",
    "\n",
    "# Binary cross entropy compares each of the predicted probabilities to actual class output which can be either 0 or 1\n",
    "\n",
    "# BCELoss measures the error of a reconstruction\n",
    "# It creates a norm/criterion that calculates the Binary cross entropy between the target probabilities and input probabilities\n",
    "\n",
    "# Binary cross entropy contrasts each of the predicted probability to actual output which can be 0 or 1.\n",
    "# Combines the Sigmoid layer with the BCELoss\n",
    "# It also computes the score that deals with the probability based on the distance from the expected value.\n",
    "criterion = nn.BCEWithLogitsLoss()\n",
    "optimizer = torch.optim.SGD(perceptron.parameters(), lr=0.6)\n",
    "\n",
    "# We generate the input data and the labels for the OR logical operation\n",
    "input_data = torch.tensor([[0.0, 0.0], [0.0,0.1],[1.0,0.0], [1.0,1.0]], requires_grad=True).float()\n",
    "labels = torch.tensor([[0.0], [1.0], [1.0], [1.0]]).float()"
   ]
  },
  {
   "cell_type": "code",
   "execution_count": 60,
   "id": "401f9031",
   "metadata": {},
   "outputs": [
    {
     "name": "stdout",
     "output_type": "stream",
     "text": [
      "Epoch [500/10000], Loss: 0.2366 \n",
      "Epoch [1000/10000], Loss: 0.2122 \n",
      "Epoch [1500/10000], Loss: 0.1917 \n",
      "Epoch [2000/10000], Loss: 0.1743 \n",
      "Epoch [2500/10000], Loss: 0.1594 \n",
      "Epoch [3000/10000], Loss: 0.1465 \n",
      "Epoch [3500/10000], Loss: 0.1353 \n",
      "Epoch [4000/10000], Loss: 0.1255 \n",
      "Epoch [4500/10000], Loss: 0.1170 \n",
      "Epoch [5000/10000], Loss: 0.1093 \n",
      "Epoch [5500/10000], Loss: 0.1026 \n",
      "Epoch [6000/10000], Loss: 0.0965 \n",
      "Epoch [6500/10000], Loss: 0.0911 \n",
      "Epoch [7000/10000], Loss: 0.0862 \n",
      "Epoch [7500/10000], Loss: 0.0818 \n",
      "Epoch [8000/10000], Loss: 0.0778 \n",
      "Epoch [8500/10000], Loss: 0.0741 \n",
      "Epoch [9000/10000], Loss: 0.0707 \n",
      "Epoch [9500/10000], Loss: 0.0676 \n",
      "Epoch [10000/10000], Loss: 0.0648 \n"
     ]
    }
   ],
   "source": [
    "# Next, we train the model\n",
    "num_epochs = 10000\n",
    "for epoch in range(num_epochs):\n",
    "    # Forward pass\n",
    "    outputs = perceptron(input_data)\n",
    "    loss = criterion(outputs, labels)\n",
    "    \n",
    "    # Backward pass and optimization\n",
    "    optimizer.zero_grad()\n",
    "    loss.backward()\n",
    "    optimizer.step()\n",
    "    \n",
    "    if (epoch + 1) % 500 == 0:\n",
    "        print(f'Epoch [{epoch + 1}/{num_epochs}], Loss: {loss.item():.4f} ')"
   ]
  },
  {
   "cell_type": "code",
   "execution_count": 61,
   "id": "c08b2df2",
   "metadata": {},
   "outputs": [
    {
     "name": "stdout",
     "output_type": "stream",
     "text": [
      "Accuracy:  1.0\n"
     ]
    }
   ],
   "source": [
    "# Finally, we evaluate the trained model and compute its accuracy\n",
    "\n",
    "with torch.no_grad(): # evaluate the trained model\n",
    "    # no_grad() tells PyTorch to not calculate the gradients\n",
    "    outputs = perceptron(input_data)\n",
    "    predicted = (outputs >= 0.5).float()\n",
    "    accuracy = (predicted == labels).float().mean()\n",
    "    print(\"Accuracy: \", accuracy.item())"
   ]
  },
  {
   "cell_type": "code",
   "execution_count": null,
   "id": "27288d84",
   "metadata": {},
   "outputs": [],
   "source": []
  }
 ],
 "metadata": {
  "kernelspec": {
   "display_name": "Python 3 (ipykernel)",
   "language": "python",
   "name": "python3"
  },
  "language_info": {
   "codemirror_mode": {
    "name": "ipython",
    "version": 3
   },
   "file_extension": ".py",
   "mimetype": "text/x-python",
   "name": "python",
   "nbconvert_exporter": "python",
   "pygments_lexer": "ipython3",
   "version": "3.9.13"
  }
 },
 "nbformat": 4,
 "nbformat_minor": 5
}
