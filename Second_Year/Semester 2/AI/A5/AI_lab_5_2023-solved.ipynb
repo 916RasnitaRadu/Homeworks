{
 "cells": [
  {
   "cell_type": "markdown",
   "id": "b8210b19",
   "metadata": {},
   "source": [
    "## A.I. Assignment 5\n",
    "\n",
    "## Learning Goals\n",
    "\n",
    "By the end of this lab, you should be able to:\n",
    "* Get more familiar with tensors in pytorch \n",
    "* Create a simple multilayer perceptron model with pytorch\n",
    "* Visualise the parameters\n",
    "\n",
    "\n",
    "### Task\n",
    "\n",
    "Build a fully connected feed forward network that adds two bits. Determine the a propper achitecture for this network (what database you use for this problem? how many layers? how many neurons on each layer? what is the activation function? what is the loss function? etc)\n",
    "\n",
    "Create at least 3 such networks and compare their performance (how accurate they are?, how farst they are trained to get at 1 accuracy?)\n",
    "\n",
    "Display for the best one the weights for each layer.\n"
   ]
  },
  {
   "cell_type": "code",
   "execution_count": 100,
   "id": "e3614e5f",
   "metadata": {},
   "outputs": [],
   "source": [
    "import torch\n",
    "import torch.nn as nn\n",
    "from collections import OrderedDict\n",
    "from datetime import datetime"
   ]
  },
  {
   "cell_type": "code",
   "execution_count": 101,
   "id": "5ee7e7d7",
   "metadata": {},
   "outputs": [],
   "source": [
    "# your code here\n",
    "model1 = nn.Sequential(OrderedDict([\n",
    "    ('hidden', nn.Linear(2, 32)),\n",
    "    ('hidden_activation', nn.ReLU()),\n",
    "    ('output', nn.Linear(32, 2)),\n",
    "    ('output_activation', nn.Sigmoid())\n",
    "]))\n",
    "\n",
    "model2 = nn.Sequential(OrderedDict([\n",
    "    ('hidden', nn.Linear(2,128)),\n",
    "    ('hidden_act', nn.ReLU()),\n",
    "    ('output', nn.Linear(128,2)),\n",
    "    ('output_act', nn.Sigmoid())\n",
    "]))\n",
    "model3 = nn.Sequential(OrderedDict([\n",
    "    ('hidden', nn.Linear(2,16)),\n",
    "    ('hidden_activation', nn.Sigmoid()),\n",
    "    ('output', nn.Linear(16,2)),\n",
    "    ('hidden_activation', nn.Sigmoid())\n",
    "]))\n",
    "# The database will contain 1 and 0 because we must add two bits\n",
    "# We are going to have 3 main layers: input layer, hidden layers, and output layer\n",
    "\n",
    "# MODEL 1: Defines a feedforward neural network with: 2 neurons on input layer, 32 on the hidden layer, and 2 on the output layer\n",
    "# MODEL 2&3: Defines a feedforward neural network with: 2 neurons on input layer, 8 and 16 on the hidden layer, \n",
    "# and 2 on the output layer\n"
   ]
  },
  {
   "cell_type": "code",
   "execution_count": 102,
   "id": "665ae958",
   "metadata": {},
   "outputs": [
    {
     "name": "stdout",
     "output_type": "stream",
     "text": [
      "Sequential(\n",
      "  (hidden): Linear(in_features=2, out_features=32, bias=True)\n",
      "  (hidden_activation): ReLU()\n",
      "  (output): Linear(in_features=32, out_features=2, bias=True)\n",
      "  (output_activation): Sigmoid()\n",
      ")\n",
      "Sequential(\n",
      "  (hidden_net): Linear(in_features=2, out_features=128, bias=True)\n",
      "  (hidden_act): ReLU()\n",
      "  (output_net): Linear(in_features=128, out_features=2, bias=True)\n",
      "  (output_act): Sigmoid()\n",
      ")\n",
      "Sequential(\n",
      "  (hidden_net): Linear(in_features=2, out_features=16, bias=True)\n",
      "  (hidden_act): Sigmoid()\n",
      "  (output_net): Linear(in_features=16, out_features=2, bias=True)\n",
      "  (output_act): Sigmoid()\n",
      ")\n"
     ]
    }
   ],
   "source": [
    "print(model1)\n",
    "print(model2)\n",
    "print(model3)"
   ]
  },
  {
   "cell_type": "code",
   "execution_count": 103,
   "id": "e26f0d3e",
   "metadata": {},
   "outputs": [
    {
     "name": "stdout",
     "output_type": "stream",
     "text": [
      "tensor([[0., 0.],\n",
      "        [0., 1.],\n",
      "        [1., 0.],\n",
      "        [1., 1.]])\n"
     ]
    }
   ],
   "source": [
    "# In data_in we have all the possible combinations of 2 bits 1 and 0 \n",
    "data_in = torch.tensor([[0, 0], [0, 1], [1, 0], [1, 1]], dtype=torch.float32)\n",
    "\n",
    "print(data_in)"
   ]
  },
  {
   "cell_type": "code",
   "execution_count": 104,
   "id": "4fb16bbc",
   "metadata": {},
   "outputs": [
    {
     "name": "stdout",
     "output_type": "stream",
     "text": [
      "tensor([[0., 0.],\n",
      "        [0., 1.],\n",
      "        [0., 1.],\n",
      "        [1., 0.]])\n"
     ]
    }
   ],
   "source": [
    "# contains all the possible results of adding 2 bits\n",
    "data_target = torch.tensor([[0,0], [0,1], [0,1], [1,0]], dtype=torch.float32)\n",
    "print(data_target)"
   ]
  },
  {
   "cell_type": "code",
   "execution_count": 105,
   "id": "69d920ed",
   "metadata": {},
   "outputs": [],
   "source": [
    "# The loss function for each model will be the MSELoss function (Mean Squared Error).\n",
    "# MSELoss() is a torch method that creates a criterion that measures the mean squared error between each element in the \n",
    "# input x and the target y\n",
    "# L1Loss() aka Absolute Error Loss, is the absolute difference prediction and the actual value, calculated for each ex in a\n",
    "# dataset\n",
    "\n",
    "criterion1 = nn.BCEWithLogitsLoss()\n",
    "criterion2 = nn.MSELoss()\n",
    "criterion3 = nn.L1Loss()\n",
    "optimizer1 = torch.optim.SGD(model1.parameters(), lr=0.01)\n",
    "optimizer2 = torch.optim.SGD(model2.parameters(), lr=0.01)\n",
    "optimizer3 = torch.optim.SGD(model3.parameters(), lr=0.01)\n",
    "models = [model1, model2, model3]\n",
    "criterions = [criterion1,criterion2,criterion3]\n",
    "optimizers = [optimizer1,optimizer2,optimizer3]"
   ]
  },
  {
   "cell_type": "code",
   "execution_count": 106,
   "id": "06375b21",
   "metadata": {},
   "outputs": [],
   "source": [
    "def train(model, inputs,outputs, criterion, optimizer):\n",
    "    for epoch in range(1000):\n",
    "        optimizer.zero_grad()\n",
    "        output = model(inputs)\n",
    "        loss = criterion(output, outputs)\n",
    "        loss.backward()\n",
    "        optimizer.step()\n",
    "        if (epoch + 1) % 100 == 0:\n",
    "            print(f\"Epoch [{epoch+1}/1000], Loss: {loss.item():.4f}\")"
   ]
  },
  {
   "cell_type": "code",
   "execution_count": 107,
   "id": "cde91f6f",
   "metadata": {},
   "outputs": [
    {
     "name": "stdout",
     "output_type": "stream",
     "text": [
      "Model 1 : \n",
      "Epoch [100/1000], Loss: 0.7814\n",
      "Epoch [200/1000], Loss: 0.7697\n",
      "Epoch [300/1000], Loss: 0.7596\n",
      "Epoch [400/1000], Loss: 0.7510\n",
      "Epoch [500/1000], Loss: 0.7438\n",
      "Epoch [600/1000], Loss: 0.7378\n",
      "Epoch [700/1000], Loss: 0.7327\n",
      "Epoch [800/1000], Loss: 0.7285\n",
      "Epoch [900/1000], Loss: 0.7249\n",
      "Epoch [1000/1000], Loss: 0.7218\n",
      "Model 2 : \n",
      "Epoch [100/1000], Loss: 0.2183\n",
      "Epoch [200/1000], Loss: 0.2036\n",
      "Epoch [300/1000], Loss: 0.1915\n",
      "Epoch [400/1000], Loss: 0.1806\n",
      "Epoch [500/1000], Loss: 0.1708\n",
      "Epoch [600/1000], Loss: 0.1619\n",
      "Epoch [700/1000], Loss: 0.1537\n",
      "Epoch [800/1000], Loss: 0.1462\n",
      "Epoch [900/1000], Loss: 0.1394\n",
      "Epoch [1000/1000], Loss: 0.1329\n",
      "The time for model  2 to get accuracy 1 was 0:00:00.608999\n",
      "Model 3 : \n",
      "Epoch [100/1000], Loss: 0.4841\n",
      "Epoch [200/1000], Loss: 0.4659\n",
      "Epoch [300/1000], Loss: 0.4504\n",
      "Epoch [400/1000], Loss: 0.4378\n",
      "Epoch [500/1000], Loss: 0.4278\n",
      "Epoch [600/1000], Loss: 0.4199\n",
      "Epoch [700/1000], Loss: 0.4138\n",
      "Epoch [800/1000], Loss: 0.4088\n",
      "Epoch [900/1000], Loss: 0.4049\n",
      "Epoch [1000/1000], Loss: 0.4017\n"
     ]
    }
   ],
   "source": [
    "# In the next part, we train each model\n",
    "accuracies = []\n",
    "\n",
    "for i in range(3):\n",
    "    print(\"Model\", i+1, \": \")\n",
    "    start_time = datetime.now()\n",
    "    train(models[i],data_in, data_target, criterions[i], optimizers[i])\n",
    "    \n",
    "    # next, we compute the accuracy\n",
    "    outputs = models[i](data_in)\n",
    "    predicted = (outputs >= 0.5).float()\n",
    "    \n",
    "    accuracy = (predicted == data_target).float().mean()\n",
    "    end_time = datetime.now()\n",
    "    start_time = datetime.strptime(start_time.strftime(\"%H:%M:%S:%f\"),\"%H:%M:%S:%f\") \n",
    "    end_time = datetime.strptime(end_time.strftime(\"%H:%M:%S:%f\"),\"%H:%M:%S:%f\")                                                                           \n",
    "    \n",
    "    if accuracy == 1:\n",
    "        print(\"The time for model \", i+1, \"to get accuracy 1 was\", end_time - start_time)\n",
    "        \n",
    "    accuracies.append(accuracy)\n",
    "    \n"
   ]
  },
  {
   "cell_type": "code",
   "execution_count": 108,
   "id": "dff3ec1a",
   "metadata": {},
   "outputs": [
    {
     "name": "stdout",
     "output_type": "stream",
     "text": [
      "Accuracy: 62.50%\n",
      "Accuracy: 100.00%\n",
      "Accuracy: 62.50%\n"
     ]
    }
   ],
   "source": [
    "for accuracy in accuracies:\n",
    "    print(\"Accuracy: {:.2f}%\".format(accuracy.item()*100))"
   ]
  },
  {
   "cell_type": "code",
   "execution_count": 109,
   "id": "c1a7518b",
   "metadata": {},
   "outputs": [
    {
     "name": "stdout",
     "output_type": "stream",
     "text": [
      "The weights of the best model are:  Parameter containing:\n",
      "tensor([[ 0.5160,  0.0646],\n",
      "        [-0.4942,  0.4318],\n",
      "        [-0.6409,  0.0192],\n",
      "        [ 0.1635, -0.5800],\n",
      "        [-0.4655,  0.4045],\n",
      "        [-0.1862, -0.4563],\n",
      "        [-0.2012, -0.3554],\n",
      "        [-0.0696, -0.4528],\n",
      "        [-0.7029,  0.5946],\n",
      "        [-0.2251,  0.3844],\n",
      "        [-0.0258, -0.0346],\n",
      "        [-0.1491,  0.6518],\n",
      "        [ 0.4032, -0.2926],\n",
      "        [ 0.4797,  0.5426],\n",
      "        [ 0.4292, -0.3435],\n",
      "        [-0.0076, -0.5901],\n",
      "        [ 0.2310, -0.4164],\n",
      "        [ 0.3410, -0.3926],\n",
      "        [-0.4776, -0.1955],\n",
      "        [ 0.6263,  0.6529],\n",
      "        [ 0.4816, -0.5375],\n",
      "        [ 0.6405,  0.5761],\n",
      "        [ 0.3820,  0.1943],\n",
      "        [-0.1223, -0.4320],\n",
      "        [ 0.2894,  0.3067],\n",
      "        [ 0.5735, -0.0145],\n",
      "        [ 0.0650,  0.4184],\n",
      "        [ 0.7086, -0.4989],\n",
      "        [-0.3272,  0.4257],\n",
      "        [ 0.4282, -0.6286],\n",
      "        [-0.6567, -0.1736],\n",
      "        [ 0.2152,  0.3790],\n",
      "        [ 0.1376, -0.2591],\n",
      "        [-0.2453,  0.3923],\n",
      "        [ 0.5999, -0.5577],\n",
      "        [ 0.0870, -0.6300],\n",
      "        [ 0.4408,  0.3765],\n",
      "        [ 0.0459, -0.6090],\n",
      "        [-0.0031,  0.2060],\n",
      "        [ 0.3435,  0.5527],\n",
      "        [-0.1520, -0.0917],\n",
      "        [ 0.3433, -0.3571],\n",
      "        [ 0.0436, -0.2661],\n",
      "        [-0.4750,  0.2116],\n",
      "        [ 0.1910, -0.0750],\n",
      "        [-0.3589, -0.4116],\n",
      "        [-0.2126,  0.3498],\n",
      "        [ 0.2785, -0.1634],\n",
      "        [ 0.2263, -0.2980],\n",
      "        [-0.4522, -0.6892],\n",
      "        [-0.4370,  0.6794],\n",
      "        [ 0.0618,  0.3000],\n",
      "        [-0.6814,  0.2104],\n",
      "        [ 0.2879,  0.4013],\n",
      "        [-0.3555,  0.4426],\n",
      "        [-0.4758, -0.2215],\n",
      "        [-0.4214,  0.0229],\n",
      "        [ 0.6218, -0.1391],\n",
      "        [-0.6393,  0.4661],\n",
      "        [ 0.4113,  0.1474],\n",
      "        [-0.6363,  0.5281],\n",
      "        [-0.3603,  0.0887],\n",
      "        [ 0.3563, -0.2051],\n",
      "        [ 0.6043,  0.3113],\n",
      "        [ 0.6742, -0.6660],\n",
      "        [ 0.0310, -0.2380],\n",
      "        [-0.6290, -0.0794],\n",
      "        [-0.4341,  0.5098],\n",
      "        [ 0.3844, -0.2912],\n",
      "        [-0.4797,  0.5912],\n",
      "        [ 0.0064,  0.1855],\n",
      "        [ 0.2296,  0.6370],\n",
      "        [ 0.2203,  0.5960],\n",
      "        [ 0.3058,  0.5090],\n",
      "        [-0.3001, -0.6337],\n",
      "        [ 0.2179, -0.3053],\n",
      "        [-0.6686, -0.4042],\n",
      "        [-0.1229,  0.0414],\n",
      "        [-0.3587,  0.3223],\n",
      "        [-0.4098, -0.1218],\n",
      "        [-0.2335,  0.2064],\n",
      "        [ 0.0933,  0.4854],\n",
      "        [-0.3771, -0.5558],\n",
      "        [ 0.3713,  0.6325],\n",
      "        [ 0.1312,  0.6985],\n",
      "        [ 0.1759, -0.0630],\n",
      "        [ 0.4321,  0.6384],\n",
      "        [-0.3420,  0.5032],\n",
      "        [ 0.1914,  0.6439],\n",
      "        [-0.7052, -0.5844],\n",
      "        [ 0.3347,  0.1024],\n",
      "        [-0.0960,  0.3269],\n",
      "        [ 0.6368, -0.2553],\n",
      "        [-0.2989,  0.6992],\n",
      "        [-0.6257, -0.3829],\n",
      "        [ 0.2051, -0.1085],\n",
      "        [ 0.7033,  0.5075],\n",
      "        [-0.6210, -0.4912],\n",
      "        [-0.1862, -0.2598],\n",
      "        [ 0.0591, -0.0940],\n",
      "        [ 0.0465,  0.0334],\n",
      "        [-0.4923,  0.6698],\n",
      "        [-0.5179, -0.6755],\n",
      "        [-0.4671,  0.0992],\n",
      "        [ 0.4760, -0.4390],\n",
      "        [-0.2550, -0.4892],\n",
      "        [ 0.6483,  0.3777],\n",
      "        [ 0.7172, -0.5642],\n",
      "        [-0.6722,  0.6711],\n",
      "        [ 0.1064, -0.6927],\n",
      "        [ 0.0944, -0.0934],\n",
      "        [-0.6265, -0.1350],\n",
      "        [-0.5940, -0.4938],\n",
      "        [ 0.6637, -0.6484],\n",
      "        [-0.2845, -0.3541],\n",
      "        [-0.2514,  0.1519],\n",
      "        [-0.4891, -0.4067],\n",
      "        [-0.0298, -0.1125],\n",
      "        [-0.5684, -0.4134],\n",
      "        [-0.5528,  0.1565],\n",
      "        [-0.1685,  0.5306],\n",
      "        [ 0.5830, -0.4252],\n",
      "        [ 0.0020, -0.4579],\n",
      "        [ 0.1719, -0.4049],\n",
      "        [-0.0811,  0.2942],\n",
      "        [-0.2013,  0.7260],\n",
      "        [-0.5279, -0.4447],\n",
      "        [-0.1854,  0.2795]], requires_grad=True)\n"
     ]
    }
   ],
   "source": [
    "# Now we display the weights for the best model\n",
    "best_model = models[accuracies.index(max(accuracies))]\n",
    "print(\"The weights of the best model are: \", best_model[0].weight)"
   ]
  },
  {
   "cell_type": "code",
   "execution_count": null,
   "id": "4cdf09ba",
   "metadata": {},
   "outputs": [],
   "source": []
  },
  {
   "cell_type": "code",
   "execution_count": null,
   "id": "d0bea66c",
   "metadata": {},
   "outputs": [],
   "source": []
  },
  {
   "cell_type": "code",
   "execution_count": null,
   "id": "a9dc653d",
   "metadata": {},
   "outputs": [],
   "source": []
  }
 ],
 "metadata": {
  "kernelspec": {
   "display_name": "Python 3 (ipykernel)",
   "language": "python",
   "name": "python3"
  },
  "language_info": {
   "codemirror_mode": {
    "name": "ipython",
    "version": 3
   },
   "file_extension": ".py",
   "mimetype": "text/x-python",
   "name": "python",
   "nbconvert_exporter": "python",
   "pygments_lexer": "ipython3",
   "version": "3.9.13"
  }
 },
 "nbformat": 4,
 "nbformat_minor": 5
}
